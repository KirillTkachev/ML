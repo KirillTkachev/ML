{
 "cells": [
  {
   "cell_type": "markdown",
   "metadata": {
    "nbgrader": {
     "grade": false,
     "grade_id": "cell-86e0de040aac317a",
     "locked": true,
     "schema_version": 2,
     "solution": false
    }
   },
   "source": [
    "# Lab assignment №1, part 2\n",
    "\n",
    "This lab assignment consists of several parts. You are supposed to make some transformations, train some models, estimate the quality of the models and explain your results.\n",
    "\n",
    "Several comments:\n",
    "* Don't hesitate to ask questions, it's a good practice.\n",
    "* No private/public sharing, please. The copied assignments will be graded with 0 points.\n",
    "* Blocks of this lab will be graded separately."
   ]
  },
  {
   "cell_type": "markdown",
   "metadata": {},
   "source": [
    "__*This is the second part of the assignment. First and third parts are waiting for you in the same directory.*__"
   ]
  },
  {
   "cell_type": "markdown",
   "metadata": {
    "nbgrader": {
     "grade": false,
     "grade_id": "cell-512ba712fc0fc065",
     "locked": true,
     "schema_version": 2,
     "solution": false
    }
   },
   "source": [
    "## Part 2. Data preprocessing, model training and evaluation."
   ]
  },
  {
   "cell_type": "markdown",
   "metadata": {
    "nbgrader": {
     "grade": false,
     "grade_id": "cell-b656a4266174b009",
     "locked": true,
     "schema_version": 2,
     "solution": false
    }
   },
   "source": [
    "### 1. Reading the data\n",
    "Today we work with the [dataset](https://archive.ics.uci.edu/ml/datasets/Statlog+%28Vehicle+Silhouettes%29), describing different cars for multiclass ($k=4$) classification problem. The data is available below."
   ]
  },
  {
   "cell_type": "code",
   "execution_count": 1,
   "metadata": {},
   "outputs": [],
   "source": [
    "# If on colab, uncomment the following lines\n",
    "\n",
    "# ! wget https://raw.githubusercontent.com/girafe-ai/ml-mipt/21f_made/homeworks/Lab1_ML_pipeline_and_SVM/car_data.csv"
   ]
  },
  {
   "cell_type": "code",
   "execution_count": 2,
   "metadata": {
    "nbgrader": {
     "grade": false,
     "grade_id": "cell-eebac6bfdf73d0bc",
     "locked": true,
     "schema_version": 2,
     "solution": false
    }
   },
   "outputs": [
    {
     "name": "stdout",
     "output_type": "stream",
     "text": [
      "(846, 19) (846,)\n",
      "(549, 19) (549,) (297, 19) (297,)\n"
     ]
    }
   ],
   "source": [
    "import pandas as pd\n",
    "import numpy as np\n",
    "from sklearn.model_selection import train_test_split\n",
    "\n",
    "dataset = pd.read_csv('car_data.csv', delimiter=',', header=None).values\n",
    "data = dataset[:, :-1].astype(int)\n",
    "target = dataset[:, -1]\n",
    "\n",
    "print(data.shape, target.shape)\n",
    "\n",
    "X_train, X_test, y_train, y_test = train_test_split(data, target, test_size=0.35, random_state = 42)\n",
    "print(X_train.shape, y_train.shape, X_test.shape, y_test.shape)"
   ]
  },
  {
   "cell_type": "markdown",
   "metadata": {
    "nbgrader": {
     "grade": false,
     "grade_id": "cell-88b1a0f688568f2c",
     "locked": true,
     "schema_version": 2,
     "solution": false
    }
   },
   "source": [
    "To get some insights about the dataset, `pandas` might be used. The `train` part is transformed to `pd.DataFrame` below."
   ]
  },
  {
   "cell_type": "code",
   "execution_count": 3,
   "metadata": {},
   "outputs": [
    {
     "data": {
      "text/html": [
       "<div>\n",
       "<style scoped>\n",
       "    .dataframe tbody tr th:only-of-type {\n",
       "        vertical-align: middle;\n",
       "    }\n",
       "\n",
       "    .dataframe tbody tr th {\n",
       "        vertical-align: top;\n",
       "    }\n",
       "\n",
       "    .dataframe thead th {\n",
       "        text-align: right;\n",
       "    }\n",
       "</style>\n",
       "<table border=\"1\" class=\"dataframe\">\n",
       "  <thead>\n",
       "    <tr style=\"text-align: right;\">\n",
       "      <th></th>\n",
       "      <th>0</th>\n",
       "      <th>1</th>\n",
       "      <th>2</th>\n",
       "      <th>3</th>\n",
       "      <th>4</th>\n",
       "      <th>5</th>\n",
       "      <th>6</th>\n",
       "      <th>7</th>\n",
       "      <th>8</th>\n",
       "      <th>9</th>\n",
       "      <th>10</th>\n",
       "      <th>11</th>\n",
       "      <th>12</th>\n",
       "      <th>13</th>\n",
       "      <th>14</th>\n",
       "      <th>15</th>\n",
       "      <th>16</th>\n",
       "      <th>17</th>\n",
       "      <th>18</th>\n",
       "    </tr>\n",
       "  </thead>\n",
       "  <tbody>\n",
       "    <tr>\n",
       "      <th>0</th>\n",
       "      <td>822</td>\n",
       "      <td>95</td>\n",
       "      <td>41</td>\n",
       "      <td>82</td>\n",
       "      <td>170</td>\n",
       "      <td>65</td>\n",
       "      <td>9</td>\n",
       "      <td>145</td>\n",
       "      <td>46</td>\n",
       "      <td>19</td>\n",
       "      <td>145</td>\n",
       "      <td>163</td>\n",
       "      <td>314</td>\n",
       "      <td>140</td>\n",
       "      <td>64</td>\n",
       "      <td>4</td>\n",
       "      <td>8</td>\n",
       "      <td>199</td>\n",
       "      <td>207</td>\n",
       "    </tr>\n",
       "    <tr>\n",
       "      <th>1</th>\n",
       "      <td>486</td>\n",
       "      <td>104</td>\n",
       "      <td>57</td>\n",
       "      <td>103</td>\n",
       "      <td>222</td>\n",
       "      <td>72</td>\n",
       "      <td>12</td>\n",
       "      <td>221</td>\n",
       "      <td>30</td>\n",
       "      <td>25</td>\n",
       "      <td>177</td>\n",
       "      <td>223</td>\n",
       "      <td>718</td>\n",
       "      <td>218</td>\n",
       "      <td>72</td>\n",
       "      <td>11</td>\n",
       "      <td>12</td>\n",
       "      <td>186</td>\n",
       "      <td>195</td>\n",
       "    </tr>\n",
       "    <tr>\n",
       "      <th>2</th>\n",
       "      <td>182</td>\n",
       "      <td>91</td>\n",
       "      <td>42</td>\n",
       "      <td>66</td>\n",
       "      <td>169</td>\n",
       "      <td>66</td>\n",
       "      <td>7</td>\n",
       "      <td>145</td>\n",
       "      <td>44</td>\n",
       "      <td>19</td>\n",
       "      <td>140</td>\n",
       "      <td>169</td>\n",
       "      <td>325</td>\n",
       "      <td>159</td>\n",
       "      <td>67</td>\n",
       "      <td>4</td>\n",
       "      <td>0</td>\n",
       "      <td>201</td>\n",
       "      <td>207</td>\n",
       "    </tr>\n",
       "    <tr>\n",
       "      <th>3</th>\n",
       "      <td>375</td>\n",
       "      <td>109</td>\n",
       "      <td>52</td>\n",
       "      <td>95</td>\n",
       "      <td>189</td>\n",
       "      <td>58</td>\n",
       "      <td>4</td>\n",
       "      <td>227</td>\n",
       "      <td>29</td>\n",
       "      <td>25</td>\n",
       "      <td>158</td>\n",
       "      <td>262</td>\n",
       "      <td>776</td>\n",
       "      <td>217</td>\n",
       "      <td>82</td>\n",
       "      <td>0</td>\n",
       "      <td>19</td>\n",
       "      <td>187</td>\n",
       "      <td>186</td>\n",
       "    </tr>\n",
       "    <tr>\n",
       "      <th>4</th>\n",
       "      <td>528</td>\n",
       "      <td>95</td>\n",
       "      <td>47</td>\n",
       "      <td>73</td>\n",
       "      <td>195</td>\n",
       "      <td>70</td>\n",
       "      <td>7</td>\n",
       "      <td>167</td>\n",
       "      <td>38</td>\n",
       "      <td>20</td>\n",
       "      <td>152</td>\n",
       "      <td>184</td>\n",
       "      <td>430</td>\n",
       "      <td>185</td>\n",
       "      <td>69</td>\n",
       "      <td>9</td>\n",
       "      <td>19</td>\n",
       "      <td>200</td>\n",
       "      <td>206</td>\n",
       "    </tr>\n",
       "    <tr>\n",
       "      <th>5</th>\n",
       "      <td>223</td>\n",
       "      <td>81</td>\n",
       "      <td>44</td>\n",
       "      <td>72</td>\n",
       "      <td>139</td>\n",
       "      <td>60</td>\n",
       "      <td>6</td>\n",
       "      <td>153</td>\n",
       "      <td>44</td>\n",
       "      <td>19</td>\n",
       "      <td>146</td>\n",
       "      <td>180</td>\n",
       "      <td>347</td>\n",
       "      <td>178</td>\n",
       "      <td>81</td>\n",
       "      <td>1</td>\n",
       "      <td>15</td>\n",
       "      <td>182</td>\n",
       "      <td>186</td>\n",
       "    </tr>\n",
       "    <tr>\n",
       "      <th>6</th>\n",
       "      <td>840</td>\n",
       "      <td>93</td>\n",
       "      <td>34</td>\n",
       "      <td>66</td>\n",
       "      <td>140</td>\n",
       "      <td>56</td>\n",
       "      <td>7</td>\n",
       "      <td>130</td>\n",
       "      <td>51</td>\n",
       "      <td>18</td>\n",
       "      <td>120</td>\n",
       "      <td>151</td>\n",
       "      <td>251</td>\n",
       "      <td>114</td>\n",
       "      <td>62</td>\n",
       "      <td>5</td>\n",
       "      <td>29</td>\n",
       "      <td>201</td>\n",
       "      <td>207</td>\n",
       "    </tr>\n",
       "    <tr>\n",
       "      <th>7</th>\n",
       "      <td>593</td>\n",
       "      <td>89</td>\n",
       "      <td>43</td>\n",
       "      <td>77</td>\n",
       "      <td>147</td>\n",
       "      <td>54</td>\n",
       "      <td>8</td>\n",
       "      <td>144</td>\n",
       "      <td>46</td>\n",
       "      <td>19</td>\n",
       "      <td>146</td>\n",
       "      <td>163</td>\n",
       "      <td>308</td>\n",
       "      <td>174</td>\n",
       "      <td>64</td>\n",
       "      <td>13</td>\n",
       "      <td>5</td>\n",
       "      <td>194</td>\n",
       "      <td>201</td>\n",
       "    </tr>\n",
       "    <tr>\n",
       "      <th>8</th>\n",
       "      <td>346</td>\n",
       "      <td>117</td>\n",
       "      <td>52</td>\n",
       "      <td>110</td>\n",
       "      <td>228</td>\n",
       "      <td>65</td>\n",
       "      <td>12</td>\n",
       "      <td>212</td>\n",
       "      <td>31</td>\n",
       "      <td>24</td>\n",
       "      <td>163</td>\n",
       "      <td>228</td>\n",
       "      <td>668</td>\n",
       "      <td>220</td>\n",
       "      <td>66</td>\n",
       "      <td>21</td>\n",
       "      <td>25</td>\n",
       "      <td>194</td>\n",
       "      <td>205</td>\n",
       "    </tr>\n",
       "    <tr>\n",
       "      <th>9</th>\n",
       "      <td>357</td>\n",
       "      <td>109</td>\n",
       "      <td>49</td>\n",
       "      <td>109</td>\n",
       "      <td>193</td>\n",
       "      <td>59</td>\n",
       "      <td>10</td>\n",
       "      <td>207</td>\n",
       "      <td>32</td>\n",
       "      <td>24</td>\n",
       "      <td>156</td>\n",
       "      <td>225</td>\n",
       "      <td>635</td>\n",
       "      <td>213</td>\n",
       "      <td>70</td>\n",
       "      <td>13</td>\n",
       "      <td>31</td>\n",
       "      <td>191</td>\n",
       "      <td>202</td>\n",
       "    </tr>\n",
       "    <tr>\n",
       "      <th>10</th>\n",
       "      <td>482</td>\n",
       "      <td>94</td>\n",
       "      <td>46</td>\n",
       "      <td>79</td>\n",
       "      <td>181</td>\n",
       "      <td>62</td>\n",
       "      <td>8</td>\n",
       "      <td>167</td>\n",
       "      <td>40</td>\n",
       "      <td>20</td>\n",
       "      <td>148</td>\n",
       "      <td>190</td>\n",
       "      <td>418</td>\n",
       "      <td>193</td>\n",
       "      <td>67</td>\n",
       "      <td>12</td>\n",
       "      <td>15</td>\n",
       "      <td>191</td>\n",
       "      <td>198</td>\n",
       "    </tr>\n",
       "    <tr>\n",
       "      <th>11</th>\n",
       "      <td>522</td>\n",
       "      <td>89</td>\n",
       "      <td>36</td>\n",
       "      <td>69</td>\n",
       "      <td>162</td>\n",
       "      <td>63</td>\n",
       "      <td>6</td>\n",
       "      <td>140</td>\n",
       "      <td>48</td>\n",
       "      <td>18</td>\n",
       "      <td>131</td>\n",
       "      <td>164</td>\n",
       "      <td>291</td>\n",
       "      <td>126</td>\n",
       "      <td>66</td>\n",
       "      <td>1</td>\n",
       "      <td>38</td>\n",
       "      <td>193</td>\n",
       "      <td>204</td>\n",
       "    </tr>\n",
       "    <tr>\n",
       "      <th>12</th>\n",
       "      <td>176</td>\n",
       "      <td>84</td>\n",
       "      <td>39</td>\n",
       "      <td>90</td>\n",
       "      <td>180</td>\n",
       "      <td>60</td>\n",
       "      <td>7</td>\n",
       "      <td>177</td>\n",
       "      <td>37</td>\n",
       "      <td>21</td>\n",
       "      <td>131</td>\n",
       "      <td>209</td>\n",
       "      <td>469</td>\n",
       "      <td>145</td>\n",
       "      <td>71</td>\n",
       "      <td>4</td>\n",
       "      <td>38</td>\n",
       "      <td>190</td>\n",
       "      <td>198</td>\n",
       "    </tr>\n",
       "    <tr>\n",
       "      <th>13</th>\n",
       "      <td>680</td>\n",
       "      <td>95</td>\n",
       "      <td>46</td>\n",
       "      <td>76</td>\n",
       "      <td>162</td>\n",
       "      <td>66</td>\n",
       "      <td>11</td>\n",
       "      <td>162</td>\n",
       "      <td>42</td>\n",
       "      <td>20</td>\n",
       "      <td>155</td>\n",
       "      <td>175</td>\n",
       "      <td>381</td>\n",
       "      <td>172</td>\n",
       "      <td>74</td>\n",
       "      <td>8</td>\n",
       "      <td>4</td>\n",
       "      <td>184</td>\n",
       "      <td>193</td>\n",
       "    </tr>\n",
       "    <tr>\n",
       "      <th>14</th>\n",
       "      <td>393</td>\n",
       "      <td>86</td>\n",
       "      <td>47</td>\n",
       "      <td>75</td>\n",
       "      <td>165</td>\n",
       "      <td>68</td>\n",
       "      <td>6</td>\n",
       "      <td>154</td>\n",
       "      <td>43</td>\n",
       "      <td>19</td>\n",
       "      <td>146</td>\n",
       "      <td>176</td>\n",
       "      <td>356</td>\n",
       "      <td>190</td>\n",
       "      <td>74</td>\n",
       "      <td>7</td>\n",
       "      <td>3</td>\n",
       "      <td>188</td>\n",
       "      <td>194</td>\n",
       "    </tr>\n",
       "  </tbody>\n",
       "</table>\n",
       "</div>"
      ],
      "text/plain": [
       "     0    1   2    3    4   5   6    7   8   9    10   11   12   13  14  15  \\\n",
       "0   822   95  41   82  170  65   9  145  46  19  145  163  314  140  64   4   \n",
       "1   486  104  57  103  222  72  12  221  30  25  177  223  718  218  72  11   \n",
       "2   182   91  42   66  169  66   7  145  44  19  140  169  325  159  67   4   \n",
       "3   375  109  52   95  189  58   4  227  29  25  158  262  776  217  82   0   \n",
       "4   528   95  47   73  195  70   7  167  38  20  152  184  430  185  69   9   \n",
       "5   223   81  44   72  139  60   6  153  44  19  146  180  347  178  81   1   \n",
       "6   840   93  34   66  140  56   7  130  51  18  120  151  251  114  62   5   \n",
       "7   593   89  43   77  147  54   8  144  46  19  146  163  308  174  64  13   \n",
       "8   346  117  52  110  228  65  12  212  31  24  163  228  668  220  66  21   \n",
       "9   357  109  49  109  193  59  10  207  32  24  156  225  635  213  70  13   \n",
       "10  482   94  46   79  181  62   8  167  40  20  148  190  418  193  67  12   \n",
       "11  522   89  36   69  162  63   6  140  48  18  131  164  291  126  66   1   \n",
       "12  176   84  39   90  180  60   7  177  37  21  131  209  469  145  71   4   \n",
       "13  680   95  46   76  162  66  11  162  42  20  155  175  381  172  74   8   \n",
       "14  393   86  47   75  165  68   6  154  43  19  146  176  356  190  74   7   \n",
       "\n",
       "    16   17   18  \n",
       "0    8  199  207  \n",
       "1   12  186  195  \n",
       "2    0  201  207  \n",
       "3   19  187  186  \n",
       "4   19  200  206  \n",
       "5   15  182  186  \n",
       "6   29  201  207  \n",
       "7    5  194  201  \n",
       "8   25  194  205  \n",
       "9   31  191  202  \n",
       "10  15  191  198  \n",
       "11  38  193  204  \n",
       "12  38  190  198  \n",
       "13   4  184  193  \n",
       "14   3  188  194  "
      ]
     },
     "execution_count": 3,
     "metadata": {},
     "output_type": "execute_result"
    }
   ],
   "source": [
    "X_train_pd = pd.DataFrame(X_train)\n",
    "\n",
    "# First 15 rows of our dataset.\n",
    "X_train_pd.head(15)"
   ]
  },
  {
   "cell_type": "markdown",
   "metadata": {
    "nbgrader": {
     "grade": false,
     "grade_id": "cell-98e7d91d77d65fcf",
     "locked": true,
     "schema_version": 2,
     "solution": false
    }
   },
   "source": [
    "Methods `describe` and `info` deliver some useful information."
   ]
  },
  {
   "cell_type": "code",
   "execution_count": 4,
   "metadata": {},
   "outputs": [
    {
     "data": {
      "text/html": [
       "<div>\n",
       "<style scoped>\n",
       "    .dataframe tbody tr th:only-of-type {\n",
       "        vertical-align: middle;\n",
       "    }\n",
       "\n",
       "    .dataframe tbody tr th {\n",
       "        vertical-align: top;\n",
       "    }\n",
       "\n",
       "    .dataframe thead th {\n",
       "        text-align: right;\n",
       "    }\n",
       "</style>\n",
       "<table border=\"1\" class=\"dataframe\">\n",
       "  <thead>\n",
       "    <tr style=\"text-align: right;\">\n",
       "      <th></th>\n",
       "      <th>0</th>\n",
       "      <th>1</th>\n",
       "      <th>2</th>\n",
       "      <th>3</th>\n",
       "      <th>4</th>\n",
       "      <th>5</th>\n",
       "      <th>6</th>\n",
       "      <th>7</th>\n",
       "      <th>8</th>\n",
       "      <th>9</th>\n",
       "      <th>10</th>\n",
       "      <th>11</th>\n",
       "      <th>12</th>\n",
       "      <th>13</th>\n",
       "      <th>14</th>\n",
       "      <th>15</th>\n",
       "      <th>16</th>\n",
       "      <th>17</th>\n",
       "      <th>18</th>\n",
       "    </tr>\n",
       "  </thead>\n",
       "  <tbody>\n",
       "    <tr>\n",
       "      <th>count</th>\n",
       "      <td>549.000000</td>\n",
       "      <td>549.000000</td>\n",
       "      <td>549.000000</td>\n",
       "      <td>549.000000</td>\n",
       "      <td>549.000000</td>\n",
       "      <td>549.000000</td>\n",
       "      <td>549.000000</td>\n",
       "      <td>549.000000</td>\n",
       "      <td>549.000000</td>\n",
       "      <td>549.000000</td>\n",
       "      <td>549.000000</td>\n",
       "      <td>549.000000</td>\n",
       "      <td>549.000000</td>\n",
       "      <td>549.000000</td>\n",
       "      <td>549.000000</td>\n",
       "      <td>549.000000</td>\n",
       "      <td>549.000000</td>\n",
       "      <td>549.000000</td>\n",
       "      <td>549.000000</td>\n",
       "    </tr>\n",
       "    <tr>\n",
       "      <th>mean</th>\n",
       "      <td>425.723133</td>\n",
       "      <td>93.520947</td>\n",
       "      <td>44.675774</td>\n",
       "      <td>81.801457</td>\n",
       "      <td>168.204007</td>\n",
       "      <td>61.644809</td>\n",
       "      <td>8.457195</td>\n",
       "      <td>167.327869</td>\n",
       "      <td>41.273224</td>\n",
       "      <td>20.468124</td>\n",
       "      <td>147.438980</td>\n",
       "      <td>186.734062</td>\n",
       "      <td>431.540984</td>\n",
       "      <td>173.763206</td>\n",
       "      <td>72.158470</td>\n",
       "      <td>6.522769</td>\n",
       "      <td>12.646630</td>\n",
       "      <td>188.998179</td>\n",
       "      <td>195.854281</td>\n",
       "    </tr>\n",
       "    <tr>\n",
       "      <th>std</th>\n",
       "      <td>242.288797</td>\n",
       "      <td>8.063277</td>\n",
       "      <td>6.154680</td>\n",
       "      <td>15.928751</td>\n",
       "      <td>33.047995</td>\n",
       "      <td>7.110666</td>\n",
       "      <td>3.945857</td>\n",
       "      <td>32.506680</td>\n",
       "      <td>7.777590</td>\n",
       "      <td>2.526030</td>\n",
       "      <td>14.631309</td>\n",
       "      <td>30.436279</td>\n",
       "      <td>171.479332</td>\n",
       "      <td>31.793047</td>\n",
       "      <td>7.335198</td>\n",
       "      <td>4.980796</td>\n",
       "      <td>8.833356</td>\n",
       "      <td>6.298389</td>\n",
       "      <td>7.449629</td>\n",
       "    </tr>\n",
       "    <tr>\n",
       "      <th>min</th>\n",
       "      <td>0.000000</td>\n",
       "      <td>76.000000</td>\n",
       "      <td>33.000000</td>\n",
       "      <td>42.000000</td>\n",
       "      <td>104.000000</td>\n",
       "      <td>47.000000</td>\n",
       "      <td>2.000000</td>\n",
       "      <td>114.000000</td>\n",
       "      <td>26.000000</td>\n",
       "      <td>17.000000</td>\n",
       "      <td>118.000000</td>\n",
       "      <td>131.000000</td>\n",
       "      <td>191.000000</td>\n",
       "      <td>112.000000</td>\n",
       "      <td>59.000000</td>\n",
       "      <td>0.000000</td>\n",
       "      <td>0.000000</td>\n",
       "      <td>176.000000</td>\n",
       "      <td>181.000000</td>\n",
       "    </tr>\n",
       "    <tr>\n",
       "      <th>25%</th>\n",
       "      <td>217.000000</td>\n",
       "      <td>87.000000</td>\n",
       "      <td>40.000000</td>\n",
       "      <td>70.000000</td>\n",
       "      <td>140.000000</td>\n",
       "      <td>57.000000</td>\n",
       "      <td>7.000000</td>\n",
       "      <td>146.000000</td>\n",
       "      <td>34.000000</td>\n",
       "      <td>19.000000</td>\n",
       "      <td>136.000000</td>\n",
       "      <td>167.000000</td>\n",
       "      <td>317.000000</td>\n",
       "      <td>148.000000</td>\n",
       "      <td>67.000000</td>\n",
       "      <td>2.000000</td>\n",
       "      <td>6.000000</td>\n",
       "      <td>184.000000</td>\n",
       "      <td>191.000000</td>\n",
       "    </tr>\n",
       "    <tr>\n",
       "      <th>50%</th>\n",
       "      <td>430.000000</td>\n",
       "      <td>93.000000</td>\n",
       "      <td>44.000000</td>\n",
       "      <td>79.000000</td>\n",
       "      <td>165.000000</td>\n",
       "      <td>61.000000</td>\n",
       "      <td>8.000000</td>\n",
       "      <td>157.000000</td>\n",
       "      <td>43.000000</td>\n",
       "      <td>20.000000</td>\n",
       "      <td>145.000000</td>\n",
       "      <td>177.000000</td>\n",
       "      <td>363.000000</td>\n",
       "      <td>173.000000</td>\n",
       "      <td>71.000000</td>\n",
       "      <td>6.000000</td>\n",
       "      <td>11.000000</td>\n",
       "      <td>189.000000</td>\n",
       "      <td>197.000000</td>\n",
       "    </tr>\n",
       "    <tr>\n",
       "      <th>75%</th>\n",
       "      <td>636.000000</td>\n",
       "      <td>99.000000</td>\n",
       "      <td>49.000000</td>\n",
       "      <td>98.000000</td>\n",
       "      <td>195.000000</td>\n",
       "      <td>66.000000</td>\n",
       "      <td>10.000000</td>\n",
       "      <td>196.000000</td>\n",
       "      <td>46.000000</td>\n",
       "      <td>23.000000</td>\n",
       "      <td>159.000000</td>\n",
       "      <td>216.000000</td>\n",
       "      <td>576.000000</td>\n",
       "      <td>196.000000</td>\n",
       "      <td>75.000000</td>\n",
       "      <td>10.000000</td>\n",
       "      <td>19.000000</td>\n",
       "      <td>193.000000</td>\n",
       "      <td>201.000000</td>\n",
       "    </tr>\n",
       "    <tr>\n",
       "      <th>max</th>\n",
       "      <td>845.000000</td>\n",
       "      <td>117.000000</td>\n",
       "      <td>59.000000</td>\n",
       "      <td>110.000000</td>\n",
       "      <td>306.000000</td>\n",
       "      <td>126.000000</td>\n",
       "      <td>52.000000</td>\n",
       "      <td>265.000000</td>\n",
       "      <td>59.000000</td>\n",
       "      <td>29.000000</td>\n",
       "      <td>186.000000</td>\n",
       "      <td>288.000000</td>\n",
       "      <td>1018.000000</td>\n",
       "      <td>268.000000</td>\n",
       "      <td>127.000000</td>\n",
       "      <td>22.000000</td>\n",
       "      <td>40.000000</td>\n",
       "      <td>206.000000</td>\n",
       "      <td>211.000000</td>\n",
       "    </tr>\n",
       "  </tbody>\n",
       "</table>\n",
       "</div>"
      ],
      "text/plain": [
       "               0           1           2           3           4           5   \\\n",
       "count  549.000000  549.000000  549.000000  549.000000  549.000000  549.000000   \n",
       "mean   425.723133   93.520947   44.675774   81.801457  168.204007   61.644809   \n",
       "std    242.288797    8.063277    6.154680   15.928751   33.047995    7.110666   \n",
       "min      0.000000   76.000000   33.000000   42.000000  104.000000   47.000000   \n",
       "25%    217.000000   87.000000   40.000000   70.000000  140.000000   57.000000   \n",
       "50%    430.000000   93.000000   44.000000   79.000000  165.000000   61.000000   \n",
       "75%    636.000000   99.000000   49.000000   98.000000  195.000000   66.000000   \n",
       "max    845.000000  117.000000   59.000000  110.000000  306.000000  126.000000   \n",
       "\n",
       "               6           7           8           9           10          11  \\\n",
       "count  549.000000  549.000000  549.000000  549.000000  549.000000  549.000000   \n",
       "mean     8.457195  167.327869   41.273224   20.468124  147.438980  186.734062   \n",
       "std      3.945857   32.506680    7.777590    2.526030   14.631309   30.436279   \n",
       "min      2.000000  114.000000   26.000000   17.000000  118.000000  131.000000   \n",
       "25%      7.000000  146.000000   34.000000   19.000000  136.000000  167.000000   \n",
       "50%      8.000000  157.000000   43.000000   20.000000  145.000000  177.000000   \n",
       "75%     10.000000  196.000000   46.000000   23.000000  159.000000  216.000000   \n",
       "max     52.000000  265.000000   59.000000   29.000000  186.000000  288.000000   \n",
       "\n",
       "                12          13          14          15          16  \\\n",
       "count   549.000000  549.000000  549.000000  549.000000  549.000000   \n",
       "mean    431.540984  173.763206   72.158470    6.522769   12.646630   \n",
       "std     171.479332   31.793047    7.335198    4.980796    8.833356   \n",
       "min     191.000000  112.000000   59.000000    0.000000    0.000000   \n",
       "25%     317.000000  148.000000   67.000000    2.000000    6.000000   \n",
       "50%     363.000000  173.000000   71.000000    6.000000   11.000000   \n",
       "75%     576.000000  196.000000   75.000000   10.000000   19.000000   \n",
       "max    1018.000000  268.000000  127.000000   22.000000   40.000000   \n",
       "\n",
       "               17          18  \n",
       "count  549.000000  549.000000  \n",
       "mean   188.998179  195.854281  \n",
       "std      6.298389    7.449629  \n",
       "min    176.000000  181.000000  \n",
       "25%    184.000000  191.000000  \n",
       "50%    189.000000  197.000000  \n",
       "75%    193.000000  201.000000  \n",
       "max    206.000000  211.000000  "
      ]
     },
     "execution_count": 4,
     "metadata": {},
     "output_type": "execute_result"
    }
   ],
   "source": [
    "X_train_pd.describe()"
   ]
  },
  {
   "cell_type": "code",
   "execution_count": 5,
   "metadata": {},
   "outputs": [
    {
     "name": "stdout",
     "output_type": "stream",
     "text": [
      "<class 'pandas.core.frame.DataFrame'>\n",
      "RangeIndex: 549 entries, 0 to 548\n",
      "Data columns (total 19 columns):\n",
      " #   Column  Non-Null Count  Dtype\n",
      "---  ------  --------------  -----\n",
      " 0   0       549 non-null    int32\n",
      " 1   1       549 non-null    int32\n",
      " 2   2       549 non-null    int32\n",
      " 3   3       549 non-null    int32\n",
      " 4   4       549 non-null    int32\n",
      " 5   5       549 non-null    int32\n",
      " 6   6       549 non-null    int32\n",
      " 7   7       549 non-null    int32\n",
      " 8   8       549 non-null    int32\n",
      " 9   9       549 non-null    int32\n",
      " 10  10      549 non-null    int32\n",
      " 11  11      549 non-null    int32\n",
      " 12  12      549 non-null    int32\n",
      " 13  13      549 non-null    int32\n",
      " 14  14      549 non-null    int32\n",
      " 15  15      549 non-null    int32\n",
      " 16  16      549 non-null    int32\n",
      " 17  17      549 non-null    int32\n",
      " 18  18      549 non-null    int32\n",
      "dtypes: int32(19)\n",
      "memory usage: 40.9 KB\n"
     ]
    }
   ],
   "source": [
    "X_train_pd.info()"
   ]
  },
  {
   "cell_type": "markdown",
   "metadata": {
    "nbgrader": {
     "grade": false,
     "grade_id": "cell-be844269be69c387",
     "locked": true,
     "schema_version": 2,
     "solution": false
    }
   },
   "source": [
    "### 2. Machine Learning pipeline\n",
    "Here you are supposed to perform the desired transformations. Please, explain your results briefly after each task."
   ]
  },
  {
   "cell_type": "markdown",
   "metadata": {},
   "source": [
    "#### 2.0. Data preprocessing\n",
    "* Make some transformations of the dataset (if necessary). Briefly explain the transformations"
   ]
  },
  {
   "cell_type": "code",
   "execution_count": 6,
   "metadata": {
    "nbgrader": {
     "grade": true,
     "grade_id": "cell-a1514aa189a49fca",
     "locked": false,
     "points": 15,
     "schema_version": 2,
     "solution": true
    }
   },
   "outputs": [],
   "source": [
    "### YOUR CODE HERE\n",
    "from sklearn import preprocessing\n",
    "\n",
    "scaler = preprocessing.StandardScaler()\n",
    "X_train = scaler.fit_transform(X_train)\n",
    "X_test = scaler.fit_transform(X_test)\n",
    "\n",
    "# Data scaling with StandardScaler()"
   ]
  },
  {
   "cell_type": "markdown",
   "metadata": {},
   "source": [
    "#### 2.1. Basic logistic regression\n",
    "* Find optimal hyperparameters for logistic regression with cross-validation on the `train` data (small grid/random search is enough, no need to find the *best* parameters).\n",
    "\n",
    "* Estimate the model quality with `f1` and `accuracy` scores.\n",
    "* Plot a ROC-curve for the trained model. For the multiclass case you might use `scikitplot` library (e.g. `scikitplot.metrics.plot_roc(test_labels, predicted_proba)`).\n",
    "\n",
    "*Note: please, use the following hyperparameters for logistic regression: `multi_class='multinomial'`, `solver='saga'` `tol=1e-3` and ` max_iter=500`.*"
   ]
  },
  {
   "cell_type": "code",
   "execution_count": 7,
   "metadata": {
    "nbgrader": {
     "grade": true,
     "grade_id": "cell-1dd5ad5d0845cbbb",
     "locked": false,
     "points": 5,
     "schema_version": 2,
     "solution": true
    }
   },
   "outputs": [
    {
     "name": "stdout",
     "output_type": "stream",
     "text": [
      "best score is 0.7450542118432026\n",
      "best params is {'C': 0.09444444444444444}\n"
     ]
    }
   ],
   "source": [
    "### YOUR CODE HERE\n",
    "from sklearn.linear_model import LogisticRegression\n",
    "from sklearn.model_selection import GridSearchCV\n",
    "\n",
    "logistic_regression_model = LogisticRegression(multi_class='multinomial', solver='saga', tol=1e-3, max_iter=500)\n",
    "\n",
    "grid_search = GridSearchCV(logistic_regression_model, param_grid = {'C': np.linspace(0.05, 0.1, 10)})\n",
    "\n",
    "grid_search.fit(X_train, y_train)\n",
    "\n",
    "print(\"best score is\", grid_search.best_score_)\n",
    "print(\"best params is\", grid_search.best_params_)\n",
    "\n",
    "# Find parameters with gridsearch"
   ]
  },
  {
   "cell_type": "code",
   "execution_count": 8,
   "metadata": {},
   "outputs": [
    {
     "name": "stdout",
     "output_type": "stream",
     "text": [
      "f1 score:  0.7303916194422287\n",
      "accuracy test: 0.7407407407407407\n"
     ]
    }
   ],
   "source": [
    "from sklearn.metrics import accuracy_score, f1_score\n",
    "\n",
    "best_estimator = grid_search.best_estimator_\n",
    "best_estimator.fit(X_train, y_train)\n",
    "\n",
    "prediction_train = best_estimator.predict(X_train)\n",
    "prediction_test = best_estimator.predict(X_test)\n",
    "\n",
    "print(\"f1 score: \", f1_score(y_test, prediction_test, average = 'macro')) \n",
    "print(\"accuracy test:\", accuracy_score(y_test, prediction_test)) \n",
    "\n",
    "# Fit our best estimator and take a look at metrics"
   ]
  },
  {
   "cell_type": "code",
   "execution_count": 9,
   "metadata": {},
   "outputs": [
    {
     "data": {
      "text/plain": [
       "<AxesSubplot:title={'center':'ROC Curves'}, xlabel='False Positive Rate', ylabel='True Positive Rate'>"
      ]
     },
     "execution_count": 9,
     "metadata": {},
     "output_type": "execute_result"
    },
    {
     "data": {
      "image/png": "[encoded data removed]",
      "text/plain": [
       "<Figure size 432x288 with 1 Axes>"
      ]
     },
     "metadata": {
      "needs_background": "light"
     },
     "output_type": "display_data"
    }
   ],
   "source": [
    "from scikitplot import metrics\n",
    "metrics.plot_roc(y_test, best_estimator.predict_proba(X_test))\n",
    "\n",
    "# Plot ROC-curves for trained model"
   ]
  },
  {
   "cell_type": "markdown",
   "metadata": {},
   "source": [
    "#### 2.2. PCA: explained variance plot\n",
    "* Apply the PCA to the train part of the data. Build the explaided variance plot. "
   ]
  },
  {
   "cell_type": "code",
   "execution_count": 10,
   "metadata": {
    "nbgrader": {
     "grade": true,
     "grade_id": "cell-c6c614740bce090e",
     "locked": false,
     "points": 10,
     "schema_version": 2,
     "solution": true
    }
   },
   "outputs": [
    {
     "data": {
      "text/plain": [
       "PCA()"
      ]
     },
     "execution_count": 10,
     "metadata": {},
     "output_type": "execute_result"
    }
   ],
   "source": [
    "from sklearn.decomposition import PCA\n",
    "principal_component_analysis_model = PCA()\n",
    "principal_component_analysis_model.fit(X_train)\n",
    "\n",
    "# Fit principal component analysis model"
   ]
  },
  {
   "cell_type": "code",
   "execution_count": 11,
   "metadata": {},
   "outputs": [
    {
     "data": {
      "image/png": "[encoded data removed]",
      "text/plain": [
       "<Figure size 432x288 with 1 Axes>"
      ]
     },
     "metadata": {
      "needs_background": "light"
     },
     "output_type": "display_data"
    }
   ],
   "source": [
    "import matplotlib.pyplot as plt\n",
    "\n",
    "plt.plot(np.cumsum(principal_component_analysis_model.explained_variance_ratio_))\n",
    "plt.grid()\n",
    "plt.xlabel('number of components')\n",
    "plt.ylabel('explained variance');"
   ]
  },
  {
   "cell_type": "markdown",
   "metadata": {
    "nbgrader": {
     "grade": false,
     "grade_id": "cell-0c1fe666f52fe53c",
     "locked": true,
     "schema_version": 2,
     "solution": false
    }
   },
   "source": [
    "#### 2.3. PCA trasformation\n",
    "* Select the appropriate number of components. Briefly explain your choice. Should you normalize the data?\n",
    "\n",
    "*Use `fit` and `transform` methods to transform the `train` and `test` parts.*"
   ]
  },
  {
   "cell_type": "markdown",
   "metadata": {
    "nbgrader": {
     "grade": true,
     "grade_id": "cell-96ab18d96473ef71",
     "locked": false,
     "points": 5,
     "schema_version": 2,
     "solution": true
    }
   },
   "source": [
    "I selected 12 components because it's enough to describe 99% of data. Data should be normalized as well, in other case PCA will prefer components with biggest range of values. "
   ]
  },
  {
   "cell_type": "markdown",
   "metadata": {},
   "source": [
    "**Note: From this point `sklearn` [Pipeline](https://scikit-learn.org/stable/modules/compose.html) might be useful to perform transformations on the data. Refer to the [docs](https://scikit-learn.org/stable/modules/generated/sklearn.pipeline.Pipeline.html) for more information.**"
   ]
  },
  {
   "cell_type": "markdown",
   "metadata": {
    "nbgrader": {
     "grade": false,
     "grade_id": "cell-d28b58a35c94e988",
     "locked": true,
     "schema_version": 2,
     "solution": false
    }
   },
   "source": [
    "#### 2.4. Logistic regression on PCA-preprocessed data.\n",
    "* Find optimal hyperparameters for logistic regression with cross-validation on the transformed by PCA `train` data.\n",
    "\n",
    "* Estimate the model quality with `f1` and `accuracy` scores.\n",
    "* Plot a ROC-curve for the trained model. For the multiclass case you might use `scikitplot` library (e.g. `scikitplot.metrics.plot_roc(test_labels, predicted_proba)`).\n",
    "\n",
    "*Note: please, use the following hyperparameters for logistic regression: `multi_class='multinomial'`, `solver='saga'` and `tol=1e-3`*"
   ]
  },
  {
   "cell_type": "code",
   "execution_count": 12,
   "metadata": {
    "nbgrader": {
     "grade": true,
     "grade_id": "cell-12d53ea45258fa82",
     "locked": false,
     "points": 5,
     "schema_version": 2,
     "solution": true
    }
   },
   "outputs": [],
   "source": [
    "### YOUR CODE HERE\n",
    "from sklearn.pipeline import Pipeline"
   ]
  },
  {
   "cell_type": "code",
   "execution_count": 13,
   "metadata": {},
   "outputs": [
    {
     "name": "stdout",
     "output_type": "stream",
     "text": [
      "best score is 0.715929941618015\n",
      "best params is {'C': 0.05}\n"
     ]
    }
   ],
   "source": [
    "principal_component_analysis_model = PCA(n_components = 12)\n",
    "X_train_pca = principal_component_analysis_model.fit_transform(X_train)\n",
    "X_test_pca = principal_component_analysis_model.transform(X_test)\n",
    "logistic_regression_model = LogisticRegression(multi_class='multinomial', solver='saga', tol=1e-3, max_iter=500)\n",
    "\n",
    "grid_search = GridSearchCV(logistic_regression_model, param_grid = {'C': np.linspace(0.05, 0.1, 10)})\n",
    "\n",
    "grid_search.fit(X_train_pca, y_train)\n",
    "\n",
    "print(\"best score is\", grid_search.best_score_)\n",
    "print(\"best params is\", grid_search.best_params_)"
   ]
  },
  {
   "cell_type": "code",
   "execution_count": 14,
   "metadata": {},
   "outputs": [
    {
     "name": "stdout",
     "output_type": "stream",
     "text": [
      "f1 score:  0.7114978489838976\n",
      "accuracy: 0.7239057239057239\n"
     ]
    }
   ],
   "source": [
    "from sklearn.metrics import accuracy_score, f1_score\n",
    "\n",
    "best_estimator = grid_search.best_estimator_\n",
    "best_estimator.fit(X_train_pca, y_train)\n",
    "\n",
    "prediction_train = best_estimator.predict(X_train_pca)\n",
    "prediction_test = best_estimator.predict(X_test_pca)\n",
    "\n",
    "print(\"f1 score: \", f1_score(y_test, prediction_test, average = 'macro')) \n",
    "print(\"accuracy:\", accuracy_score(y_test, prediction_test)) \n",
    "\n",
    "# Fit our best estimator and take a look at metrics\n",
    "# As we see, quality become little bit lower, as expected, but the model is easier"
   ]
  },
  {
   "cell_type": "code",
   "execution_count": 15,
   "metadata": {},
   "outputs": [
    {
     "data": {
      "text/plain": [
       "<AxesSubplot:title={'center':'ROC Curves'}, xlabel='False Positive Rate', ylabel='True Positive Rate'>"
      ]
     },
     "execution_count": 15,
     "metadata": {},
     "output_type": "execute_result"
    },
    {
     "data": {
      "image/png": "[encoded data removed]",
      "text/plain": [
       "<Figure size 432x288 with 1 Axes>"
      ]
     },
     "metadata": {
      "needs_background": "light"
     },
     "output_type": "display_data"
    }
   ],
   "source": [
    "metrics.plot_roc(y_test, best_estimator.predict_proba(X_test_pca))"
   ]
  },
  {
   "cell_type": "markdown",
   "metadata": {
    "nbgrader": {
     "grade": false,
     "grade_id": "cell-4fbf16c64076e139",
     "locked": true,
     "schema_version": 2,
     "solution": false
    }
   },
   "source": [
    "#### 2.5. Decision tree\n",
    "* Now train a desicion tree on the same data. Find optimal tree depth (`max_depth`) using cross-validation.\n",
    "\n",
    "* Measure the model quality using the same metrics you used above."
   ]
  },
  {
   "cell_type": "code",
   "execution_count": 16,
   "metadata": {
    "nbgrader": {
     "grade": true,
     "grade_id": "cell-748ed20b51c67fab",
     "locked": false,
     "points": 15,
     "schema_version": 2,
     "solution": true
    }
   },
   "outputs": [
    {
     "data": {
      "text/plain": [
       "GridSearchCV(estimator=DecisionTreeClassifier(random_state=42),\n",
       "             param_grid={'max_depth': array([ 1,  2,  3,  4,  5,  6,  7,  8,  9, 10, 11, 12, 13, 14, 15, 16, 17,\n",
       "       18, 19, 20, 21, 22, 23, 24, 25, 26, 27, 28, 29])})"
      ]
     },
     "execution_count": 16,
     "metadata": {},
     "output_type": "execute_result"
    }
   ],
   "source": [
    "from sklearn.tree import DecisionTreeClassifier\n",
    "\n",
    "decision_tree_model = DecisionTreeClassifier(random_state=42)\n",
    "grid_search = GridSearchCV(decision_tree_model, {\"max_depth\": np.arange(1, 30)})\n",
    "grid_search.fit(X_train_pca, y_train)"
   ]
  },
  {
   "cell_type": "code",
   "execution_count": 17,
   "metadata": {},
   "outputs": [
    {
     "name": "stdout",
     "output_type": "stream",
     "text": [
      "accuracy:  0.5723905723905723\n",
      "f1 score:  0.5801759531572962\n"
     ]
    }
   ],
   "source": [
    "prediction = grid_search.best_estimator_.predict(X_test_pca)\n",
    "print('accuracy: ', accuracy_score(prediction, y_test))\n",
    "print('f1 score: ', f1_score(prediction, y_test, average='macro'))"
   ]
  },
  {
   "cell_type": "markdown",
   "metadata": {
    "nbgrader": {
     "grade": false,
     "grade_id": "cell-9eadd4d8a03ae67a",
     "locked": true,
     "schema_version": 2,
     "solution": false
    }
   },
   "source": [
    "#### 2.6. Bagging.\n",
    "Here starts the ensembling part.\n",
    "\n",
    "First we will use the __Bagging__ approach. Build an ensemble of $N$ algorithms varying N from $N_{min}=2$ to $N_{max}=100$ (with step 5).\n",
    "\n",
    "We will build two ensembles: of logistic regressions and of decision trees.\n",
    "\n",
    "*Comment: each ensemble should be constructed from models of the same family, so logistic regressions should not be mixed up with decision trees.*\n",
    "\n",
    "\n",
    "*Hint 1: To build a __Bagging__ ensebmle varying the ensemble size efficiently you might generate $N_{max}$ subsets of `train` data (of the same size as the original dataset) using bootstrap procedure once. Then you train a new instance of logistic regression/decision tree with optimal hyperparameters you estimated before on each subset (so you train it from scratch). Finally, to get an ensemble of $N$ models you average the $N$ out of $N_{max}$ models predictions.*\n",
    "\n",
    "*Hint 2: sklearn might help you with this taks. Some appropriate function/class might be out there.*\n",
    "\n",
    "* Plot `f1` and `accuracy` scores plots w.r.t. the size of the ensemble.\n",
    "\n",
    "* Briefly analyse the plot. What is the optimal number of algorithms? Explain your answer.\n",
    "\n",
    "* How do you think, are the hyperparameters for the decision trees you found in 2.5 optimal for trees used in ensemble? "
   ]
  },
  {
   "cell_type": "code",
   "execution_count": 18,
   "metadata": {
    "nbgrader": {
     "grade": true,
     "grade_id": "cell-8fc95a2b206bdae1",
     "locked": false,
     "points": 35,
     "schema_version": 2,
     "solution": true
    }
   },
   "outputs": [],
   "source": [
    "from sklearn.ensemble import BaggingClassifier\n",
    "import sklearn"
   ]
  },
  {
   "cell_type": "code",
   "execution_count": 19,
   "metadata": {},
   "outputs": [],
   "source": [
    "# Utility function for generating, evaluating and plotting models\n",
    "\n",
    "alghorithms_range = np.arange(2, 100, 5)\n",
    "\n",
    "def generate(model):\n",
    "    models = dict()\n",
    "    for alghorithm_number in alghorithms_range:\n",
    "        models[alghorithm_number] = BaggingClassifier(base_estimator = model, n_estimators = alghorithm_number)\n",
    "        models[alghorithm_number].fit(X_train, y_train)\n",
    "    return models\n",
    "\n",
    "def evaluate(model):\n",
    "    prediction = model.predict(X_test)\n",
    "    accuracy = accuracy_score(prediction, y_test)\n",
    "    f1_score_ = f1_score(prediction, y_test, average='macro')\n",
    "    return accuracy, f1_score_\n",
    "\n",
    "def plot(models):\n",
    "    f1_array = []\n",
    "    accuracy_array = []\n",
    "        \n",
    "    for name, model in models.items():\n",
    "        accuracy, f1_score = evaluate(model)\n",
    "        accuracy_array.append(accuracy)\n",
    "        f1_array.append(f1_score)\n",
    "    plt.plot(alghorithms_range, f1_array)\n",
    "    plt.grid()\n",
    "    plt.xlabel(\"alghorithm number\")\n",
    "    plt.ylabel(\"f1 score\")\n",
    "    plt.show()\n",
    "    \n",
    "    plt.plot(alghorithms_range, accuracy_array)\n",
    "    plt.grid()\n",
    "    plt.xlabel(\"alghorithm number\")\n",
    "    plt.ylabel(\"accuracy\")\n",
    "    plt.show()"
   ]
  },
  {
   "cell_type": "code",
   "execution_count": 20,
   "metadata": {},
   "outputs": [],
   "source": [
    "# Logistic regression\n",
    "import warnings\n",
    "warnings.filterwarnings('ignore')\n",
    "\n",
    "base_model = LogisticRegression(solver = 'saga', tol = 1e-3, max_iter = 500, random_state = 42)\n",
    "logistic_regression_models = generate(base_model)"
   ]
  },
  {
   "cell_type": "code",
   "execution_count": 21,
   "metadata": {},
   "outputs": [
    {
     "data": {
      "image/png": "[encoded data removed]",
      "text/plain": [
       "<Figure size 432x288 with 1 Axes>"
      ]
     },
     "metadata": {
      "needs_background": "light"
     },
     "output_type": "display_data"
    },
    {
     "data": {
      "image/png": "[encoded data removed]",
      "text/plain": [
       "<Figure size 432x288 with 1 Axes>"
      ]
     },
     "metadata": {
      "needs_background": "light"
     },
     "output_type": "display_data"
    }
   ],
   "source": [
    "plot(logistic_regression_models)"
   ]
  },
  {
   "cell_type": "markdown",
   "metadata": {},
   "source": [
    "Optimal number of alghorithms for linear regression is around 22"
   ]
  },
  {
   "cell_type": "code",
   "execution_count": 22,
   "metadata": {},
   "outputs": [],
   "source": [
    "# Decision tree\n",
    "base_model = DecisionTreeClassifier(max_depth=grid_search.best_params_['max_depth'])\n",
    "decision_tree_models = generate(base_model)"
   ]
  },
  {
   "cell_type": "code",
   "execution_count": 23,
   "metadata": {},
   "outputs": [
    {
     "data": {
      "image/png": "[encoded data removed]",
      "text/plain": [
       "<Figure size 432x288 with 1 Axes>"
      ]
     },
     "metadata": {
      "needs_background": "light"
     },
     "output_type": "display_data"
    },
    {
     "data": {
      "image/png": "[encoded data removed]",
      "text/plain": [
       "<Figure size 432x288 with 1 Axes>"
      ]
     },
     "metadata": {
      "needs_background": "light"
     },
     "output_type": "display_data"
    }
   ],
   "source": [
    "plot(decision_tree_models)"
   ]
  },
  {
   "cell_type": "markdown",
   "metadata": {},
   "source": [
    "Optimal number of alghorithms for decision trees is around 28"
   ]
  },
  {
   "cell_type": "markdown",
   "metadata": {
    "nbgrader": {
     "grade": false,
     "grade_id": "cell-241b7691ab44cbfb",
     "locked": true,
     "schema_version": 2,
     "solution": false
    }
   },
   "source": [
    "#### 2.7. Random Forest\n",
    "Now we will work with the Random Forest (its `sklearn` implementation).\n",
    "\n",
    "* * Plot `f1` and `accuracy` scores plots w.r.t. the number of trees in Random Forest.\n",
    "\n",
    "* What is the optimal number of trees you've got? Is it different from the optimal number of logistic regressions/decision trees in 2.6? Explain the results briefly."
   ]
  },
  {
   "cell_type": "code",
   "execution_count": 24,
   "metadata": {
    "nbgrader": {
     "grade": true,
     "grade_id": "cell-888755d0f3d91620",
     "locked": false,
     "points": 15,
     "schema_version": 2,
     "solution": true
    }
   },
   "outputs": [],
   "source": [
    "from sklearn.ensemble import RandomForestClassifier"
   ]
  },
  {
   "cell_type": "code",
   "execution_count": 25,
   "metadata": {},
   "outputs": [],
   "source": [
    "# Random forest\n",
    "f1_array = []\n",
    "accuracy_array = []\n",
    "number_of_trees = range(1, 51)\n",
    "for i in number_of_trees:\n",
    "    random_forest_model = RandomForestClassifier(n_estimators=i)\n",
    "    random_forest_model.fit(X_train, y_train)\n",
    "    prediction = random_forest_model.predict(X_test)\n",
    "    f1_array.append(sklearn.metrics.f1_score(y_test, prediction, average='macro'))\n",
    "    accuracy_array.append(sklearn.metrics.accuracy_score(y_test, prediction))"
   ]
  },
  {
   "cell_type": "code",
   "execution_count": 26,
   "metadata": {},
   "outputs": [
    {
     "data": {
      "image/png": "[encoded data removed]",
      "text/plain": [
       "<Figure size 432x288 with 1 Axes>"
      ]
     },
     "metadata": {
      "needs_background": "light"
     },
     "output_type": "display_data"
    },
    {
     "data": {
      "image/png": "[encoded data removed]",
      "text/plain": [
       "<Figure size 432x288 with 1 Axes>"
      ]
     },
     "metadata": {
      "needs_background": "light"
     },
     "output_type": "display_data"
    }
   ],
   "source": [
    "plt.plot(number_of_trees, f1_array)\n",
    "plt.grid()\n",
    "plt.xlabel('number of tree')\n",
    "plt.ylabel('f1 score')\n",
    "plt.show()\n",
    "\n",
    "plt.plot(number_of_trees, accuracy_array)\n",
    "plt.grid()\n",
    "plt.xlabel('number of tree')\n",
    "plt.ylabel('accuracy')\n",
    "plt.show()"
   ]
  },
  {
   "cell_type": "markdown",
   "metadata": {},
   "source": [
    "Plot shows that optimal number of tree is 20"
   ]
  },
  {
   "cell_type": "markdown",
   "metadata": {
    "nbgrader": {
     "grade": false,
     "grade_id": "cell-99191c0852538d4d",
     "locked": true,
     "schema_version": 2,
     "solution": false
    }
   },
   "source": [
    "#### 2.8. Learning curve\n",
    "Your goal is to estimate, how does the model behaviour change with the increase of the `train` dataset size.\n",
    "\n",
    "* Split the training data into 10 equal (almost) parts. Then train the models from above (Logistic regression, Desicion Tree, Random Forest) with optimal hyperparameters you have selected on 1 part, 2 parts (combined, so the train size in increased by 2 times), 3 parts and so on.\n",
    "\n",
    "* Build a plot of `accuracy` and `f1` scores on `test` part, varying the `train` dataset size (so the axes will be score - dataset size.\n",
    "\n",
    "* Analyse the final plot. Can you make any conlusions using it? "
   ]
  },
  {
   "cell_type": "code",
   "execution_count": 27,
   "metadata": {
    "nbgrader": {
     "grade": true,
     "grade_id": "cell-e39bc7e7dff61ff9",
     "locked": false,
     "points": 15,
     "schema_version": 2,
     "solution": true
    }
   },
   "outputs": [
    {
     "data": {
      "image/png": "[encoded data removed]",
      "text/plain": [
       "<Figure size 432x288 with 1 Axes>"
      ]
     },
     "metadata": {
      "needs_background": "light"
     },
     "output_type": "display_data"
    },
    {
     "data": {
      "image/png": "[encoded data removed]",
      "text/plain": [
       "<Figure size 432x288 with 1 Axes>"
      ]
     },
     "metadata": {
      "needs_background": "light"
     },
     "output_type": "display_data"
    },
    {
     "data": {
      "image/png": "[encoded data removed]",
      "text/plain": [
       "<Figure size 432x288 with 1 Axes>"
      ]
     },
     "metadata": {
      "needs_background": "light"
     },
     "output_type": "display_data"
    }
   ],
   "source": [
    "import warnings\n",
    "warnings.filterwarnings('ignore')\n",
    "\n",
    "X_train_split = []\n",
    "y_train_split = []\n",
    "\n",
    "for i in range(1, 10):\n",
    "    X_train_split.append(X_train[0: int(0.1 * len(X_train) + 1) * i])\n",
    "    y_train_split.append(y_train[0: int(0.1 * len(X_train) + 1) * i])\n",
    "\n",
    "logistic_regression_model = LogisticRegression(multi_class='multinomial', solver='saga', tol=1e-3, max_iter=500)\n",
    "decision_tree_model = DecisionTreeClassifier(max_depth=15)\n",
    "random_forest_model = RandomForestClassifier(n_estimators=20)\n",
    "\n",
    "models = [BaggingClassifier(logistic_regression_model, n_estimators = 22),\n",
    "          BaggingClassifier(decision_tree_model, n_estimators = 28),\n",
    "          random_forest_model]\n",
    "    \n",
    "for model in models:\n",
    "    f1_array = []\n",
    "    accuracy_array = []\n",
    "    for i in range(0, 9):\n",
    "        model.fit(X_train_split[i], y_train_split[i])\n",
    "        f1 = sklearn.metrics.f1_score(y_test, model.predict(X_test), average='macro')\n",
    "        accuracy = sklearn.metrics.accuracy_score(y_test, model.predict(X_test))\n",
    "        f1_array.append(f1)\n",
    "        accuracy_array.append(accuracy)\n",
    "    \n",
    "    plt.plot(np.linspace(0.1, 0.9, 9), f1_array, label=\"f1 score\")\n",
    "    plt.grid()\n",
    "    plt.xlabel('part of train set')\n",
    "    plt.ylabel('metric')\n",
    "    plt.plot(np.linspace(0.1, 0.9, 9), accuracy_array, label=\"accuracy\")\n",
    "    plt.xlabel('part of train set')\n",
    "    plt.ylabel('metric')\n",
    "    plt.legend()\n",
    "    plt.show()"
   ]
  },
  {
   "cell_type": "markdown",
   "metadata": {},
   "source": [
    "As it was expected, increasing the train size is good for quality of any model. But I'm surprised that logistic regression model shows better accuracy on full train. I expected that tree would work better."
   ]
  },
  {
   "cell_type": "code",
   "execution_count": null,
   "metadata": {},
   "outputs": [],
   "source": []
  }
 ],
 "metadata": {
  "celltoolbar": "Create Assignment",
  "kernelspec": {
   "display_name": "Python 3",
   "language": "python",
   "name": "python3"
  },
  "language_info": {
   "codemirror_mode": {
    "name": "ipython",
    "version": 3
   },
   "file_extension": ".py",
   "mimetype": "text/x-python",
   "name": "python",
   "nbconvert_exporter": "python",
   "pygments_lexer": "ipython3",
   "version": "3.8.5"
  },
  "toc": {
   "base_numbering": 1,
   "nav_menu": {},
   "number_sections": false,
   "sideBar": true,
   "skip_h1_title": false,
   "title_cell": "Table of Contents",
   "title_sidebar": "Contents",
   "toc_cell": false,
   "toc_position": {},
   "toc_section_display": true,
   "toc_window_display": false
  }
 },
 "nbformat": 4,
 "nbformat_minor": 4
}
